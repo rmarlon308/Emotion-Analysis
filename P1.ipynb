{
 "cells": [
  {
   "cell_type": "code",
   "execution_count": 44,
   "metadata": {},
   "outputs": [
    {
     "name": "stderr",
     "output_type": "stream",
     "text": [
      "[nltk_data] Downloading package wordnet to\n",
      "[nltk_data]     C:\\Users\\marlo\\AppData\\Roaming\\nltk_data...\n"
     ]
    },
    {
     "data": {
      "text/plain": [
       "True"
      ]
     },
     "execution_count": 44,
     "metadata": {},
     "output_type": "execute_result"
    }
   ],
   "source": [
    "import numpy as np\n",
    "import pandas as pd\n",
    "import csv\n",
    "import nltk\n",
    "from nltk.corpus import wordnet as wn\n",
    "\n",
    "nltk.download('wordnet')"
   ]
  },
  {
   "cell_type": "markdown",
   "metadata": {},
   "source": [
    "### 1. Load National Research Council"
   ]
  },
  {
   "cell_type": "code",
   "execution_count": 38,
   "metadata": {},
   "outputs": [],
   "source": [
    "# lexicon = pd.read_csv(\"NRC-Emotion-Lexicon/NRC-Emotion-Lexicon/NRC-Emotion-Lexicon-Wordlevel-v0.92.txt\", sep='\\t', )\n",
    "file_path = \"NRC-Emotion-Lexicon/NRC-Emotion-Lexicon/NRC-Emotion-Lexicon-Wordlevel-v0.92.txt\"\n",
    "lexicon = {}\n",
    "with open(file_path, newline='') as csvfile:\n",
    "    text = csv.reader(csvfile, delimiter='\\t', quotechar='|')\n",
    "    for row in text:\n",
    "        if row[0] not in lexicon.keys():\n",
    "            lexicon[row[0]] = {row[1]: row[2]}\n",
    "        else:\n",
    "            lexicon[row[0]][row[1]] = row[2]"
   ]
  },
  {
   "cell_type": "code",
   "execution_count": 39,
   "metadata": {},
   "outputs": [
    {
     "name": "stdout",
     "output_type": "stream",
     "text": [
      "aback {'anger': '0', 'anticipation': '0', 'disgust': '0', 'fear': '0', 'joy': '0', 'negative': '0', 'positive': '0', 'sadness': '0', 'surprise': '0', 'trust': '0'}\n",
      "abacus {'anger': '0', 'anticipation': '0', 'disgust': '0', 'fear': '0', 'joy': '0', 'negative': '0', 'positive': '0', 'sadness': '0', 'surprise': '0', 'trust': '1'}\n",
      "abandon {'anger': '0', 'anticipation': '0', 'disgust': '0', 'fear': '1', 'joy': '0', 'negative': '1', 'positive': '0', 'sadness': '1', 'surprise': '0', 'trust': '0'}\n",
      "abandoned {'anger': '1', 'anticipation': '0', 'disgust': '0', 'fear': '1', 'joy': '0', 'negative': '1', 'positive': '0', 'sadness': '1', 'surprise': '0', 'trust': '0'}\n",
      "abandonment {'anger': '1', 'anticipation': '0', 'disgust': '0', 'fear': '1', 'joy': '0', 'negative': '1', 'positive': '0', 'sadness': '1', 'surprise': '1', 'trust': '0'}\n"
     ]
    }
   ],
   "source": [
    "# Vista primors 5 elementos del diccionario\n",
    "for k,v in list(lexicon.items())[:5]:\n",
    "    print(k, v)"
   ]
  },
  {
   "cell_type": "markdown",
   "metadata": {},
   "source": [
    "### 2. Extender el léxico NRC utilizando WordNet"
   ]
  },
  {
   "cell_type": "code",
   "execution_count": 51,
   "metadata": {},
   "outputs": [
    {
     "data": {
      "text/plain": [
       "[Synset('abandon.v.01'),\n",
       " Synset('abandon.v.02'),\n",
       " Synset('vacate.v.02'),\n",
       " Synset('abandon.v.04'),\n",
       " Synset('abandon.v.05'),\n",
       " Synset('abandoned.s.01'),\n",
       " Synset('abandoned.s.02')]"
      ]
     },
     "execution_count": 51,
     "metadata": {},
     "output_type": "execute_result"
    }
   ],
   "source": [
    "wn.synsets('abandoned')"
   ]
  }
 ],
 "metadata": {
  "kernelspec": {
   "display_name": "Python 3",
   "language": "python",
   "name": "python3"
  },
  "language_info": {
   "codemirror_mode": {
    "name": "ipython",
    "version": 3
   },
   "file_extension": ".py",
   "mimetype": "text/x-python",
   "name": "python",
   "nbconvert_exporter": "python",
   "pygments_lexer": "ipython3",
   "version": "3.11.7"
  }
 },
 "nbformat": 4,
 "nbformat_minor": 2
}
